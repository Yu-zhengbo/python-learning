{
 "cells": [
  {
   "cell_type": "code",
   "execution_count": null,
   "metadata": {},
   "outputs": [],
   "source": [
    "#线性分类\n",
    "import numpy as np\n",
    "from sklearn import datasets\n",
    "from sklearn.pipeline import Pipeline\n",
    "from sklearn.preprocessing import StandardScaler\n",
    "from sklearn.svm import LinearSVC\n",
    "iris = datasets.load_iris()\n",
    "# print(iris)\n",
    "x = iris['data'][:,2:4]\n",
    "y = (iris['target']==2).astype(np.float64)\n",
    "svm_clf = Pipeline([\n",
    "    ('scaler',StandardScaler()),\n",
    "    ('linear_svc',LinearSVC(C=1,loss='hinge'))\n",
    "])\n",
    "svm_clf.fit(x,y)\n",
    "svm_clf.predict([[5.5,1.7],[1.3,1.2]])"
   ]
  },
  {
   "cell_type": "code",
   "execution_count": null,
   "metadata": {},
   "outputs": [],
   "source": [
    "#非线性分类\n",
    "from sklearn.datasets import make_moons\n",
    "from sklearn.pipeline import Pipeline\n",
    "from sklearn.preprocessing import PolynomialFeatures\n",
    "from sklearn.preprocessing import StandardScaler\n",
    "import matplotlib.pyplot as plt\n",
    "\n",
    "x,y = make_moons(n_samples=100,noise=0.15)\n",
    "polynomial_svm_clf = Pipeline([\n",
    "    ('poly_features',PolynomialFeatures(degree=3)),\n",
    "    ('scaler',StandardScaler()),\n",
    "    ('svm_clf',LinearSVC(C=10,loss='hinge'))\n",
    "])\n",
    "polynomial_svm_clf.fit(x,y)\n",
    "a=[]\n",
    "for i in range(len(y)):\n",
    "    if y[i]==1:\n",
    "        a.append(i)\n",
    "x1 = np.array([x[i] for i in range(100) if i not in a])\n",
    "x2 = np.array([x[i] for i in range(100) if i in a])\n",
    "plt.scatter(x1[:,0],x1[:,1],c='r')\n",
    "plt.scatter(x2[:,0],x2[:,1],c='y')\n",
    "plt.show()"
   ]
  },
  {
   "cell_type": "code",
   "execution_count": null,
   "metadata": {},
   "outputs": [],
   "source": [
    "#三阶多项式内核\n",
    "from sklearn.svm import SVC\n",
    "poly_kernel_svm_clf = Pipeline([\n",
    "    ('scaler',StandardScaler()),\n",
    "    ('svm_clf',SVC(kernel='poly',degree=3,C=5))\n",
    "])\n",
    "poly_kernel_svm_clf.fit(x,y)"
   ]
  },
  {
   "cell_type": "code",
   "execution_count": null,
   "metadata": {},
   "outputs": [],
   "source": [
    "#高斯RBF内核\n",
    "rbf_kernel_svm_clf = Pipeline([\n",
    "    ('scaler',StandardScaler()),\n",
    "    ('svm_clf',SVC(kernel='rbf',gamma=5,C=0.001))\n",
    "])\n",
    "rbf_kernel_svm_clf.fit(x,y)"
   ]
  },
  {
   "cell_type": "code",
   "execution_count": null,
   "metadata": {},
   "outputs": [],
   "source": [
    "#SVM回归_线性回归\n",
    "from sklearn.svm import LinearSVR\n",
    "svm_reg = LinearSVR(epsilon=1.5)\n",
    "svm_reg.fit(x,y)"
   ]
  },
  {
   "cell_type": "code",
   "execution_count": null,
   "metadata": {},
   "outputs": [],
   "source": [
    "#二阶多项式核SVM回归\n",
    "from sklearn.svm import SVR\n",
    "svm_poly_reg = SVR(kernel='poly',degree=2,C=100,epsilon=0.1)\n",
    "svm_poly_reg.fit(x,y)"
   ]
  },
  {
   "cell_type": "code",
   "execution_count": null,
   "metadata": {
    "scrolled": true
   },
   "outputs": [],
   "source": [
    "#SVM人脸数据识别\n",
    "from sklearn.datasets import fetch_lfw_people\n",
    "from sklearn.pipeline import Pipeline\n",
    "from sklearn.preprocessing import StandardScaler\n",
    "from sklearn.svm import LinearSVC\n",
    "from sklearn.model_selection import train_test_split\n",
    "from sklearn.preprocessing import PolynomialFeatures\n",
    "from sklearn.svm import SVC\n",
    "import matplotlib.pyplot as plt\n",
    "import numpy as np\n",
    "lfw_people=fetch_lfw_people(min_faces_per_person=70,resize=0.4)\n",
    "# print(lfw_people.images[0].shape)\n",
    "n,h,w = lfw_people.images.shape\n",
    "print(n,h,w)\n",
    "x = lfw_people.data\n",
    "y = lfw_people.target\n",
    "\n",
    "x_train, x_test, y_train, y_test = train_test_split(x, y, test_size=0.3, random_state=42)\n",
    "\n",
    "svm_clf = Pipeline([\n",
    "    ('scaler',StandardScaler()),\n",
    "    ('linear_svc',LinearSVC(C=0.5,loss='hinge'))\n",
    "])\n",
    "svm_clf.fit(x_train,y_train)\n",
    "print('线性分类得分：',svm_clf.score(x_test,y_test))\n",
    "\n",
    "a = np.reshape(x[0],(h,w))\n",
    "# plt.plot(a)\n",
    "# plt.show()\n",
    "plt.imshow(a)\n",
    "plt.show()\n",
    "# polynomial_svm_clf = Pipeline([\n",
    "#     ('poly_features',PolynomialFeatures(degree=3)),\n",
    "#     ('scaler',StandardScaler()),\n",
    "#     ('svm_clf',LinearSVC(C=10,loss='hinge'))\n",
    "# ])\n",
    "# polynomial_svm_clf.fit(x_train,y_train)\n",
    "# print('非线性分类得分：',polynomial_svm_clf.score(x_test,y_test))\n",
    "\n",
    "# poly_kernel_svm_clf = Pipeline([\n",
    "#     ('scaler',StandardScaler()),\n",
    "#     ('svm_clf',SVC(kernel='poly',degree=1,C=3))\n",
    "# ])\n",
    "# poly_kernel_svm_clf.fit(x_train,y_train)\n",
    "# print('多项式内核得分：',poly_kernel_svm_clf.score(x_test,y_test))\n"
   ]
  },
  {
   "cell_type": "code",
   "execution_count": null,
   "metadata": {},
   "outputs": [],
   "source": [
    "#SVM新闻主题分类 \n",
    "import pandas as pd \n",
    "import numpy as np\n",
    "from sklearn.svm import SVC\n",
    "from sklearn.model_selection import train_test_split\n",
    "import jieba"
   ]
  }
 ],
 "metadata": {
  "kernelspec": {
   "display_name": "Python 3",
   "language": "python",
   "name": "python3"
  },
  "language_info": {
   "codemirror_mode": {
    "name": "ipython",
    "version": 3
   },
   "file_extension": ".py",
   "mimetype": "text/x-python",
   "name": "python",
   "nbconvert_exporter": "python",
   "pygments_lexer": "ipython3",
   "version": "3.8.5"
  }
 },
 "nbformat": 4,
 "nbformat_minor": 2
}
