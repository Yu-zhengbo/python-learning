{
 "cells": [
  {
   "cell_type": "code",
   "execution_count": 60,
   "metadata": {},
   "outputs": [
    {
     "name": "stdout",
     "output_type": "stream",
     "text": [
      "[[ 0.36138659 -0.65658877]\n",
      " [-0.08452251 -0.73016143]\n",
      " [ 0.85667061  0.17337266]\n",
      " [ 0.3582892   0.07548102]]\n"
     ]
    }
   ],
   "source": [
    "from sklearn import datasets\n",
    "import numpy as np\n",
    "iris = datasets.load_iris()\n",
    "x = iris['data']\n",
    "# print(x)\n",
    "x_cen = x-x.mean(axis=0)\n",
    "U,s,vt = np.linalg.svd(x_cen)\n",
    "print(vt.T[:,:2])  #第一和第二主成分"
   ]
  },
  {
   "cell_type": "code",
   "execution_count": 61,
   "metadata": {},
   "outputs": [
    {
     "name": "stdout",
     "output_type": "stream",
     "text": [
      "[ 0.36138659 -0.08452251  0.85667061  0.3582892 ]\n",
      "[0.92461872 0.05306648]\n"
     ]
    }
   ],
   "source": [
    "from sklearn.decomposition import PCA\n",
    "\n",
    "pca = PCA(n_components=2)\n",
    "X2D = pca.fit_transform(x)\n",
    "print(pca.components_.T[:,0])  #主成分的单位向量\n",
    "print(pca.explained_variance_ratio_)\n",
    "\n",
    "\n",
    "#随机PCA\n",
    "rnd_pca = PCA(n_components=2,svd_solver='randomized')\n",
    "x_reduced = rnd_pca.fit_transform(x)\n",
    "# x_reduced"
   ]
  },
  {
   "cell_type": "code",
   "execution_count": 62,
   "metadata": {},
   "outputs": [
    {
     "data": {
      "image/png": "[encoded data removed]",
      "text/plain": [
       "<Figure size 432x288 with 1 Axes>"
      ]
     },
     "metadata": {
      "needs_background": "light"
     },
     "output_type": "display_data"
    },
    {
     "name": "stdout",
     "output_type": "stream",
     "text": [
      "(50, 37)\n",
      "(639, 1850) (639, 154)\n"
     ]
    }
   ],
   "source": [
    "#增量PCA\n",
    "from sklearn.datasets import fetch_lfw_people\n",
    "import matplotlib.pyplot as plt\n",
    "from sklearn.decomposition import IncrementalPCA\n",
    "\n",
    "lfw_people=fetch_lfw_people(min_faces_per_person=70,resize=0.4)\n",
    "plt.imshow(lfw_people.images[0])\n",
    "plt.show()\n",
    "print(lfw_people.images[0].shape)\n",
    "x = lfw_people.data\n",
    "n_batchs = 3\n",
    "inc_pca = IncrementalPCA(n_components = 154)\n",
    "for x_batch in np.array_split(x,n_batchs):\n",
    "    inc_pca.partial_fit(x_batch)\n",
    "x_reduced = inc_pca.transform(x)\n",
    "\n",
    "print(x.shape,x_reduced.shape)\n"
   ]
  },
  {
   "cell_type": "code",
   "execution_count": 59,
   "metadata": {},
   "outputs": [
    {
     "ename": "SyntaxError",
     "evalue": "invalid character in identifier (<ipython-input-59-2c5eea7f4fda>, line 6)",
     "output_type": "error",
     "traceback": [
      "\u001b[1;36m  File \u001b[1;32m\"<ipython-input-59-2c5eea7f4fda>\"\u001b[1;36m, line \u001b[1;32m6\u001b[0m\n\u001b[1;33m    rbf_pca = KernelPCA(n_components = 2,kernel = 'rbf',gamma = 0.0433，fit_inverse_transform=True)\u001b[0m\n\u001b[1;37m                                                                                           ^\u001b[0m\n\u001b[1;31mSyntaxError\u001b[0m\u001b[1;31m:\u001b[0m invalid character in identifier\n"
     ]
    }
   ],
   "source": [
    "#内核PCA与重构\n",
    "from sklearn.decomposition import KernelPCA\n",
    "rbf_pca = KernelPCA(n_components = 2,kernel = 'rbf',gamma = 0.04)\n",
    "x_reduced = rbf_pca.fit_transform(x)\n",
    "\n",
    "rbf_pca = KernelPCA(n_components = 2,kernel = 'rbf',gamma = 0.0433，fit_inverse_transform=True)\n",
    "x_reduced = rbf_pca.fit_transform(x)\n",
    "x_preimage = rbf_pca.inverse_transform(x_reduced)\n",
    "\n",
    "from sklearn.metrics import mean_squared_error\n",
    "mean_squared_error(x,x_preimage)"
   ]
  },
  {
   "cell_type": "code",
   "execution_count": null,
   "metadata": {
    "scrolled": false
   },
   "outputs": [],
   "source": [
    "#格子选择最优的参数 \n",
    "\n",
    "from sklearn.model_selection import GridSearchCV\n",
    "from sklearn.linear_model import LogisticRegression\n",
    "from sklearn.pipeline import Pipeline\n",
    "from sklearn.decomposition import KernelPCA\n",
    "from sklearn import datasets\n",
    "import numpy as np\n",
    "\n",
    "iris = datasets.load_iris()\n",
    "x = iris['data']\n",
    "y = iris['target']\n",
    "print(x.shape,y.shape)\n",
    "\n",
    "clf = Pipeline([\n",
    "    ('kpca',KernelPCA(n_components=2)),\n",
    "    ('log_reg',LogisticRegression())\n",
    "])\n",
    "param_grid = [{\n",
    "    'kpca_gamma':np.linspace(0.03,0.05,10),\n",
    "    'kpca_kernel':['rbf','sigmoid']\n",
    "}]\n",
    "\n",
    "grid_search = GridSearchCV(clf,param_grid)\n",
    "grid_search.fit(x,y)\n",
    "print(grid_search.best_params_)"
   ]
  },
  {
   "cell_type": "code",
   "execution_count": 65,
   "metadata": {},
   "outputs": [
    {
     "name": "stdout",
     "output_type": "stream",
     "text": [
      "[[ 0.00624642  0.00648203]\n",
      " [ 0.01586861  0.00835599]\n",
      " [ 0.0047697   0.00139031]\n",
      " ...\n",
      " [-0.13491819  0.02451007]\n",
      " [ 0.0171558   0.00891348]\n",
      " [ 0.00679318  0.00272434]]\n"
     ]
    }
   ],
   "source": [
    "#LLE\n",
    "from sklearn.manifold import LocallyLinearEmbedding \n",
    "\n",
    "lle = LocallyLinearEmbedding(n_components = 2,n_neighbors = 10)\n",
    "x_reduced = lle.fit_transform(x)\n",
    "print(x_reduced)"
   ]
  },
  {
   "cell_type": "code",
   "execution_count": null,
   "metadata": {},
   "outputs": [],
   "source": []
  }
 ],
 "metadata": {
  "kernelspec": {
   "display_name": "Python 3",
   "language": "python",
   "name": "python3"
  },
  "language_info": {
   "codemirror_mode": {
    "name": "ipython",
    "version": 3
   },
   "file_extension": ".py",
   "mimetype": "text/x-python",
   "name": "python",
   "nbconvert_exporter": "python",
   "pygments_lexer": "ipython3",
   "version": "3.8.5"
  }
 },
 "nbformat": 4,
 "nbformat_minor": 2
}
